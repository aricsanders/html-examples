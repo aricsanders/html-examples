{
 "cells": [
  {
   "cell_type": "markdown",
   "metadata": {},
   "source": [
    "## Write HTML versions of HP Basic Text Files\n"
   ]
  },
  {
   "cell_type": "code",
   "execution_count": 1,
   "metadata": {
    "collapsed": false
   },
   "outputs": [
    {
     "name": "stdout",
     "output_type": "stream",
     "text": [
      "['CALREP71_COMMA.txt', 'CAP.txt', 'DMULTI1_04d.txt', 'DMULTI1_04E.TXT', 'evaluate.txt', 'FINDLEN.TXT', 'LINEPAR.txt', 'lrmcal.txt', 'MEASLPX.txt', 'Multical.txt', 'verify.txt']\n"
     ]
    }
   ],
   "source": [
    "import os\n",
    "os.chdir(r'C:\\Share\\HPBASIC_ASCII')\n",
    "files=os.listdir(os.getcwd())\n",
    "print files"
   ]
  },
  {
   "cell_type": "code",
   "execution_count": 2,
   "metadata": {
    "collapsed": true
   },
   "outputs": [],
   "source": [
    "HTML_PREFIX=\"\"\"<!DOCTYPE html>\n",
    "<html lang=\"en\">\n",
    "<head>\n",
    "    <meta charset=\"UTF-8\">\n",
    "    <title>%s</title>\n",
    "    <link href=\"prism.css\" rel=\"stylesheet\" />\n",
    "</head>\n",
    "<body>\n",
    "<h1> A highlighted Plain Text version of %s Basic Program</h1>\n",
    "<pre><code class=\"language-basic\"><script>\"\"\"\n",
    "HTML_POSTFIX=\"\"\"</script>\n",
    "\n",
    "</code></pre>\n",
    "\n",
    "<script src=\"prism.js\" data-default-language=\"markup\"></script>\n",
    "</body>\n",
    "</html>\"\"\"\n"
   ]
  },
  {
   "cell_type": "code",
   "execution_count": 3,
   "metadata": {
    "collapsed": false
   },
   "outputs": [],
   "source": [
    "\n",
    "\n",
    "for file_name in files:\n",
    "    in_lines=[]\n",
    "    in_file=open(file_name,'r')\n",
    "    for line in in_file:\n",
    "        in_lines.append(line)\n",
    "    out_file=open(os.path.join(r'c:\\Share',file_name.replace('.txt','.html').replace('.TXT','.html')),'w')\n",
    "    out_file.write(HTML_PREFIX%(file_name,file_name))\n",
    "    for line in in_lines:\n",
    "        out_file.write(line)\n",
    "    out_file.write(HTML_POSTFIX)\n",
    "    out_file.close()\n"
   ]
  },
  {
   "cell_type": "code",
   "execution_count": 9,
   "metadata": {
    "collapsed": false
   },
   "outputs": [
    {
     "name": "stdout",
     "output_type": "stream",
     "text": [
      "<!DOCTYPE html>\n",
      "<html lang=\"en\">\n",
      "<head>\n",
      "    <meta charset=\"UTF-8\">\n",
      "    <title>CALREP 7.1</title>\n",
      "    <link href=\"prism.css\" rel=\"stylesheet\" />\n",
      "</head>\n",
      "<body>\n",
      "<h1> A highlighted Plain Text version of CALREP HP Basic Program</h1>\n",
      "<pre><code class=\"language-basic\"><script>\n"
     ]
    }
   ],
   "source": []
  },
  {
   "cell_type": "code",
   "execution_count": null,
   "metadata": {
    "collapsed": true
   },
   "outputs": [],
   "source": []
  }
 ],
 "metadata": {
  "kernelspec": {
   "display_name": "Python 2",
   "language": "python",
   "name": "python2"
  },
  "language_info": {
   "codemirror_mode": {
    "name": "ipython",
    "version": 2
   },
   "file_extension": ".py",
   "mimetype": "text/x-python",
   "name": "python",
   "nbconvert_exporter": "python",
   "pygments_lexer": "ipython2",
   "version": "2.7.11"
  }
 },
 "nbformat": 4,
 "nbformat_minor": 0
}
